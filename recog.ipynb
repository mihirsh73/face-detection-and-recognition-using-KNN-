{
  "nbformat": 4,
  "nbformat_minor": 0,
  "metadata": {
    "colab": {
      "name": "recog.ipynb",
      "provenance": [],
      "authorship_tag": "ABX9TyO3NRRV/43wRlUwRLzEJ+aD",
      "include_colab_link": true
    },
    "kernelspec": {
      "name": "python3",
      "display_name": "Python 3"
    }
  },
  "cells": [
    {
      "cell_type": "markdown",
      "metadata": {
        "id": "view-in-github",
        "colab_type": "text"
      },
      "source": [
        "<a href=\"https://colab.research.google.com/github/mihirsh73/face-detection-and-recognition-using-KNN-/blob/master/recog.ipynb\" target=\"_parent\"><img src=\"https://colab.research.google.com/assets/colab-badge.svg\" alt=\"Open In Colab\"/></a>"
      ]
    },
    {
      "cell_type": "code",
      "metadata": {
        "id": "QoWkUASZlXKp",
        "colab_type": "code",
        "colab": {}
      },
      "source": [
        "import cv2\n",
        "import numpy as np\n",
        "from sklearn.neighbors import KNeighborsClassifier\n",
        "\n",
        "\n",
        "class KNN:\n",
        "\n",
        "    def __init__(self, k):\n",
        "        self.k = k\n",
        "        self.X = None\n",
        "        self.y = None\n",
        "\n",
        "    def fit(self, X, y):\n",
        "        self.X = X\n",
        "        self.y = y\n",
        "\n",
        "    def predict_point(self, point):\n",
        "\n",
        "        distances = []\n",
        "        for x_item, y_item in zip(self.X, self.y):\n",
        "            dis = KNN.distance(x_item, point)\n",
        "            distances.append((dis, y_item))\n",
        "\n",
        "        distances = sorted(distances)\n",
        "        top = np.array(distances[:self.k])\n",
        "\n",
        "        vals, counts = np.unique(top[:, 1], return_counts=True)\n",
        "        return vals[np.argmax(counts)]\n",
        "\n",
        "    def predict(self, X):\n",
        "        res = []\n",
        "        for point in X:\n",
        "            v = self.predict_point(point)\n",
        "            res.append(v)\n",
        "        return np.array(res)\n",
        "\n",
        "    def score(self, X, y):\n",
        "        return sum(self.predict(X) == y) / len(y)\n",
        "\n",
        "    @classmethod\n",
        "    def distance(cls, p1, p2):\n",
        "        return np.sum((p1 - p2) ** 2)\n",
        "\n",
        "cap = cv2.VideoCapture(0)\n",
        "classifier = cv2.CascadeClassifier(\"haarcascade_frontalface_default.xml\")\n",
        "\n",
        "data = np.load(\"face_data.npy\")\n",
        "X = data[:, 1:].astype(int)\n",
        "y = data[:, 0]\n",
        "\n",
        "model = KNN(5)\n",
        "model.fit(X, y)\n",
        "\n",
        "while True:\n",
        "    ret, frame = cap.read()\n",
        "\n",
        "    if ret:\n",
        "        gray = cv2.cvtColor(frame, cv2.COLOR_BGR2GRAY)\n",
        "\n",
        "        faces = classifier.detectMultiScale(gray)\n",
        "\n",
        "        areas = []\n",
        "        for face in faces:\n",
        "            x, y, w, h = face\n",
        "            areas.append((w*h, face))\n",
        "\n",
        "        if len(faces) > 0:\n",
        "            face = max(areas)[1]\n",
        "            x, y, w, h = face\n",
        "\n",
        "            face_img = gray[y:y+h, x:x+w]\n",
        "\n",
        "            face_img = cv2.resize(face_img, (100, 100))\n",
        "            face_flatten = face_img.flatten()\n",
        "\n",
        "            res = model.predict([face_flatten])\n",
        "            cv2.rectangle(frame, (x, y), (x+w, y+h), (255, 255, 255), 4)\n",
        "            cv2.putText(frame, str(res[0]), (x + 20, y - 20), cv2.FONT_HERSHEY_SIMPLEX, 2, (255, 255, 255))\n",
        "\n",
        "\n",
        "        cv2.imshow(\"video\", frame)\n",
        "\n",
        "    key = cv2.waitKey(1)\n",
        "    if key & 0xff == ord('q'):\n",
        "        break"
      ],
      "execution_count": 0,
      "outputs": []
    },
    {
      "cell_type": "code",
      "metadata": {
        "id": "IBbH3Yj6lZBB",
        "colab_type": "code",
        "colab": {}
      },
      "source": [
        ""
      ],
      "execution_count": 0,
      "outputs": []
    }
  ]
}