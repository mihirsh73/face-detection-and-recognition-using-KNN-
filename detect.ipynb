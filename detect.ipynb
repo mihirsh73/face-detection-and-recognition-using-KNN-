{
  "nbformat": 4,
  "nbformat_minor": 0,
  "metadata": {
    "colab": {
      "name": "detect.ipynb",
      "provenance": [],
      "authorship_tag": "ABX9TyP5fvhvP1jrqxJjOOv557vO",
      "include_colab_link": true
    },
    "kernelspec": {
      "name": "python3",
      "display_name": "Python 3"
    }
  },
  "cells": [
    {
      "cell_type": "markdown",
      "metadata": {
        "id": "view-in-github",
        "colab_type": "text"
      },
      "source": [
        "<a href=\"https://colab.research.google.com/github/mihirsh73/face-detection-and-recognition-using-KNN-/blob/master/detect.ipynb\" target=\"_parent\"><img src=\"https://colab.research.google.com/assets/colab-badge.svg\" alt=\"Open In Colab\"/></a>"
      ]
    },
    {
      "cell_type": "code",
      "metadata": {
        "id": "DVN9f9LKcyCO",
        "colab_type": "code",
        "colab": {
          "base_uri": "https://localhost:8080/",
          "height": 35
        },
        "outputId": "77dfbf7e-00ac-4915-a5af-42eb52a559b0"
      },
      "source": [
        "import cv2\n",
        "import numpy as np\n",
        "\n",
        "from os import path\n",
        "\n",
        "cap = cv2.VideoCapture(0)\n",
        "\n",
        "classifier = cv2.CascadeClassifier(\"haarcascade_frontalface_default.xml\")\n",
        "\n",
        "name = input(\"Enter your name : \")\n",
        "\n",
        "counter = 30\n",
        "\n",
        "face_list = []\n",
        "\n",
        "while True:\n",
        "    ret, frame = cap.read()\n",
        "\n",
        "    if ret:\n",
        "        gray = cv2.cvtColor(frame, cv2.COLOR_BGR2GRAY)\n",
        "\n",
        "        faces = classifier.detectMultiScale(gray)\n",
        "\n",
        "        areas = []\n",
        "        for face in faces:\n",
        "            x, y, w, h = face\n",
        "            areas.append((w*h, face))\n",
        "\n",
        "        if len(faces) > 0:\n",
        "            face = max(areas)[1]\n",
        "            x, y, w, h = face\n",
        "\n",
        "            face_img = gray[y:y+h, x:x+w]\n",
        "\n",
        "            face_img = cv2.resize(face_img, (100, 100))\n",
        "            face_flatten = face_img.flatten()\n",
        "            face_list.append(face_flatten)\n",
        "            counter -= 1\n",
        "            print(\"loaded with\", 30 - counter)\n",
        "            if counter <= 0:\n",
        "                break\n",
        "\n",
        "            cv2.imshow(\"video\", face_img)\n",
        "\n",
        "    key = cv2.waitKey(1)\n",
        "    if key & 0xff == ord('q'):\n",
        "        break\n",
        "\n",
        "\n",
        "X = np.array(face_list)\n",
        "y = np.full((len(X), 1), name)\n",
        "\n",
        "data = np.hstack([y, X])\n",
        "\n",
        "print(data.shape)\n",
        "print(data.dtype)\n",
        "\n",
        "cap.release()\n",
        "cv2.destroyAllWindows()\n",
        "\n",
        "if path.exists(\"face_data.npy\"):\n",
        "    face_data = np.load(\"face_data.npy\")\n",
        "    face_data = np.vstack([face_data, data])\n",
        "    np.save(\"face_data.npy\", face_data)\n",
        "else:\n",
        "    np.save(\"face_data.npy\", data)\n"
      ],
      "execution_count": 0,
      "outputs": [
        {
          "output_type": "stream",
          "text": [
            "Enter your name : mihir\n"
          ],
          "name": "stdout"
        }
      ]
    },
    {
      "cell_type": "code",
      "metadata": {
        "id": "rCva72I-k4ms",
        "colab_type": "code",
        "colab": {}
      },
      "source": [
        ""
      ],
      "execution_count": 0,
      "outputs": []
    }
  ]
}